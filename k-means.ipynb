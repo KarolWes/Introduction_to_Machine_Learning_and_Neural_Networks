{
 "cells": [
  {
   "cell_type": "code",
   "execution_count": null,
   "id": "initial_id",
   "metadata": {
    "collapsed": true
   },
   "outputs": [],
   "source": []
  },
  {
   "cell_type": "markdown",
   "source": [
    "# Homework\n",
    "\n",
    "* Write your own implementation of k-means algorithm with random centroid initialization and 2 stopping conditions: max iterations and centroid convergence (if all attributes of all centroids changes not more than some epsilon the algorithm should stop). DONE, NOT TESTED\n",
    "* Use your implementation to cluster data about cereal products with their dietary characteristics (cereals.csv, 16 attributes). \n",
    "* It contains some nominal attributes (name, mfr, type). You can omit the first two of them. Type attribute is binary, so you can replace it with values 0 and 1. DONE\n",
    "* Perform the clustering of the cereals into 3 groups using k-means algorithm. \n",
    "* Remember to preprocess the data: normalization/standardization, attribute selection. DONE\n",
    "* Try to describe the obtained groups based on the obtained centroids. What do all cereals within a certain group have in common?\n",
    "* Write a report containing information about preprocessing methods that you used, number of cereals within each cluster, and your conclusions about the clustering results.\n",
    "\n",
    "**Deadline +2 weeks**\n"
   ],
   "metadata": {
    "collapsed": false
   },
   "id": "fb79158d71fa8a50"
  },
  {
   "cell_type": "code",
   "execution_count": null,
   "outputs": [],
   "source": [
    "import pandas as pd\n",
    "import numpy as np\n",
    "import seaborn as sns\n",
    "import matplotlib.pyplot as plt\n",
    "from sklearn.neighbors import KNeighborsClassifier\n",
    "from sklearn.model_selection import train_test_split\n",
    "from sklearn.metrics import accuracy_score\n",
    "from sklearn.preprocessing import StandardScaler\n",
    "from sklearn.feature_selection import SelectKBest, mutual_info_classif"
   ],
   "metadata": {
    "collapsed": false
   },
   "id": "b1bea834f6b5d7e"
  },
  {
   "cell_type": "code",
   "execution_count": null,
   "outputs": [],
   "source": [
    "sns.set_style('darkgrid')\n",
    "plt.rc('figure', figsize=(12, 8), dpi=200)\n",
    "eps = 1e-5"
   ],
   "metadata": {
    "collapsed": false
   },
   "id": "a4d761b794bc57a0"
  },
  {
   "cell_type": "code",
   "execution_count": null,
   "outputs": [],
   "source": [
    "def dist_eu(a,b):\n",
    "    return np.sqrt(np.sum((a-b)**2, axis=1))\n",
    "\n",
    "def k_means(data_x:pd.DataFrame, groups:int=3, max_iter:int = 10):\n",
    "    # centroids = data_x.sample(3)\n",
    "    x_min = np.min(data_x, axis=0)\n",
    "    x_max = np.max(data_x, axis=0)\n",
    "    centroids = np.random.uniform(x_min, x_max, size=(groups, data_x.shape[1]))\n",
    "    print(centroids)\n",
    "    for it in range(max_iter):\n",
    "        affiliation = np.argmin([dist_eu(data_x, cent) for cent in centroids], axis=0)\n",
    "        new_centroids = np.array([np.mean(data_x[affiliation == i], axis=0)\n",
    "                                 if np.sum(affiliation == i)\n",
    "                                 else centroids[i]\n",
    "                                 for i in range(groups)\n",
    "                                 ])\n",
    "        if np.all(np.abs(centroids - new_centroids) < eps):\n",
    "            print(f\"finished after {it} iterations due to lack of improvement\")\n",
    "            break\n",
    "        centroids = new_centroids\n",
    "    return affiliation, new_centroids \n",
    "\n",
    "\n",
    "def correlated_columns(data:pd.DataFrame, threshold:float):\n",
    "    pairs = []\n",
    "    for i, a in enumerate(data.columns):\n",
    "        for j, b in enumerate(data.columns):\n",
    "            if i < j:\n",
    "                r = np.abs(np.corrcoef(data[a], data[b]))[0,1]\n",
    "                if r > threshold:\n",
    "                    pairs.append((a, b, r))\n",
    "    return pairs\n",
    "\n",
    "def drop_features(data:pd.DataFrame, threshold:float):\n",
    "    for a, b, correlation in correlated_columns(data, threshold):\n",
    "        if a in data.columns and b in data.columns: \n",
    "            if data[a].var() > data[b].var(): # variance\n",
    "                data.drop(a, axis=1, inplace=True)\n",
    "            else:\n",
    "                data.drop(b, axis=1, inplace=True)"
   ],
   "metadata": {
    "collapsed": false
   },
   "id": "2f3fdd5d39b688ba"
  },
  {
   "cell_type": "code",
   "execution_count": null,
   "outputs": [],
   "source": [
    "data = pd.read_csv(\"data/cereal.csv\")\n",
    "data = data.drop(['name', 'mfr'], axis=1)\n",
    "data['type'] = data['type'].apply(lambda typ: 1 if typ == 'C' else 0)\n",
    "print(data.head())\n",
    "X_norm = StandardScaler().fit_transform(data)\n",
    "X_norm = pd.DataFrame(X_norm, columns=data.columns)\n",
    "drop_features(X_norm, threshold=0.8)\n",
    "corr = X_norm.corr()\n",
    "sns.heatmap(corr, mask=np.triu(np.ones_like(corr), k=0), annot=True, fmt='.3f', square=True, cmap='Blues')\n",
    "plt.show()\n",
    "print(X_norm.head())"
   ],
   "metadata": {
    "collapsed": false
   },
   "id": "e5aba227fa281b4c"
  },
  {
   "cell_type": "code",
   "execution_count": null,
   "outputs": [],
   "source": [
    "np.random.seed(11)\n",
    "affiliation, clusters = k_means(X_norm, max_iter=50)\n",
    "data['cluster'] = affiliation\n",
    "for aff, count in zip(*np.unique(affiliation, return_counts=True)):\n",
    "    print(f'cluster {aff}: {count: 3d} items')"
   ],
   "metadata": {
    "collapsed": false
   },
   "id": "40f6d0486c161037"
  }
 ],
 "metadata": {
  "kernelspec": {
   "display_name": "Python 3",
   "language": "python",
   "name": "python3"
  },
  "language_info": {
   "codemirror_mode": {
    "name": "ipython",
    "version": 2
   },
   "file_extension": ".py",
   "mimetype": "text/x-python",
   "name": "python",
   "nbconvert_exporter": "python",
   "pygments_lexer": "ipython2",
   "version": "2.7.6"
  }
 },
 "nbformat": 4,
 "nbformat_minor": 5
}
